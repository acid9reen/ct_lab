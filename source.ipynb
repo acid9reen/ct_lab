{
 "cells": [
  {
   "cell_type": "code",
   "execution_count": null,
   "metadata": {},
   "outputs": [],
   "source": [
    "import numpy as np\n",
    "from matplotlib import pyplot as plt\n",
    "from scipy import integrate"
   ]
  },
  {
   "cell_type": "code",
   "execution_count": null,
   "metadata": {},
   "outputs": [],
   "source": [
    "from functools import reduce\n",
    "from operator import matmul\n",
    "from typing import Callable\n",
    "\n",
    "\n",
    "def create_char_pol(*roots: complex) -> Callable[[np.ndarray], np.ndarray]:\n",
    "    \"\"\"\n",
    "    Create characteristic polynomial from roots dynamically\n",
    "    Return function that look like x -> (x - root[0]) @ (x - root[1]) @ ...\n",
    "    (Subtraction is not element-wise, it's like in true math!)\n",
    "    \"\"\"\n",
    "    dim = len(roots)\n",
    "\n",
    "    char_pol = lambda x: (\n",
    "        reduce(matmul, [x - np.identity(dim) * root for root in roots])\n",
    "    )\n",
    "\n",
    "    return char_pol"
   ]
  },
  {
   "cell_type": "code",
   "execution_count": null,
   "metadata": {},
   "outputs": [],
   "source": [
    "class PendODESystem:\n",
    "    def __init__(\n",
    "            self,\n",
    "            pend_mass=0.127,\n",
    "            cart_mass=0.12*4,\n",
    "            moment_of_inertia=7.631e-4,\n",
    "            length=0.066,\n",
    "            K_f=1.726,\n",
    "            K_s=4.487,\n",
    "            B_c=0,\n",
    "            B_p=0.002,\n",
    "    ) -> None:\n",
    "\n",
    "        A_0 = np.array([\n",
    "            [pend_mass + cart_mass, -pend_mass * length],\n",
    "            [-pend_mass * length, moment_of_inertia + pend_mass * length * length]\n",
    "        ])\n",
    "\n",
    "        A_1 = np.array([\n",
    "            [B_c, 0],\n",
    "            [0, B_p]\n",
    "        ])\n",
    "\n",
    "        A_2 = np.array([\n",
    "            [0, 0],\n",
    "            [0, -pend_mass * 9.8 * length]\n",
    "        ])\n",
    "\n",
    "        first = -np.linalg.inv(A_0) @ A_2\n",
    "        second = -np.linalg.inv(A_0) @ A_1\n",
    "        third = np.linalg.inv(A_0) @ np.array([[1], [0]])\n",
    "\n",
    "        self._A = np.array([\n",
    "            [0, 0, 1, 0],\n",
    "            [0, 0, 0, 1],\n",
    "            [first[0][0], first[0][1], second[0][0], second[0][1]],\n",
    "            [first[1][0], first[1][1], second[1][0], second[1][1]]\n",
    "        ], dtype=np.complex_)\n",
    "\n",
    "        self._b = np.array([\n",
    "            [0],\n",
    "            [0],\n",
    "            third[0],\n",
    "            third[1]\n",
    "        ], dtype=np.complex_)\n",
    "\n",
    "    @property\n",
    "    def A(self):\n",
    "        return self._A\n",
    "\n",
    "    @property\n",
    "    def b(self):\n",
    "        return self._b"
   ]
  },
  {
   "cell_type": "code",
   "execution_count": null,
   "metadata": {},
   "outputs": [],
   "source": [
    "pend = PendODESystem()"
   ]
  },
  {
   "cell_type": "code",
   "execution_count": null,
   "metadata": {},
   "outputs": [],
   "source": [
    "C = np.column_stack([\n",
    "    pend.b,\n",
    "    pend.A @ pend.b,\n",
    "    np.linalg.matrix_power(pend.A, 2) @ pend.b,\n",
    "    np.linalg.matrix_power(pend.A, 3) @ pend.b,\n",
    "])\n",
    "\n",
    "print(C)\n",
    "print(C.shape)\n",
    "print(f\"Rank: {np.linalg.matrix_rank(C)}\")"
   ]
  },
  {
   "cell_type": "code",
   "execution_count": null,
   "metadata": {},
   "outputs": [],
   "source": [
    "print(f\"Eigs: {np.linalg.eigvals(pend.A)}\")"
   ]
  },
  {
   "cell_type": "code",
   "execution_count": null,
   "metadata": {},
   "outputs": [],
   "source": [
    "theta = (\n",
    "    -np.array([[0, 0, 0, 1]])\n",
    "    @ np.linalg.inv(C)\n",
    "    @ create_char_pol(-2, complex(-1, -1), complex(-1, 1), -9)(pend.A)\n",
    ")\n",
    "\n",
    "print(f\"{theta=}\")\n"
   ]
  },
  {
   "cell_type": "code",
   "execution_count": null,
   "metadata": {},
   "outputs": [],
   "source": [
    "np.linalg.eigvals(pend.A + pend.b @ theta)"
   ]
  },
  {
   "cell_type": "code",
   "execution_count": null,
   "metadata": {},
   "outputs": [],
   "source": [
    "def linear_system(\n",
    "        t: np.ndarray,\n",
    "        x: np.ndarray,\n",
    "        A: np.ndarray,\n",
    "        b: np.ndarray,\n",
    "        theta: np.ndarray,\n",
    "        x_0: np.ndarray | None = None\n",
    ") -> np.ndarray:\n",
    "    if x_0 is None:\n",
    "        x_0 = x\n",
    "\n",
    "    return A @ x + b @ theta @ x_0"
   ]
  },
  {
   "cell_type": "code",
   "execution_count": null,
   "metadata": {},
   "outputs": [],
   "source": [
    "start, stop = 0, 10\n",
    "\n",
    "time = np.linspace(start, stop, 300)\n",
    "y_0 = np.array([0, 0.1, 0, 0])\n",
    "\n",
    "sol = integrate.solve_ivp(\n",
    "    linear_system,\n",
    "    (start, stop),\n",
    "    y_0,\n",
    "    dense_output=True,\n",
    "    args=(pend.A, pend.b, theta),\n",
    "    method=\"RK45\"\n",
    ")"
   ]
  },
  {
   "cell_type": "code",
   "execution_count": null,
   "metadata": {},
   "outputs": [],
   "source": [
    "z = sol.sol(time)"
   ]
  },
  {
   "cell_type": "code",
   "execution_count": null,
   "metadata": {},
   "outputs": [],
   "source": [
    "y_labels = (r\"x\", r\"\\phi\", r\"\\dot x\", r\"\\dot \\phi\")\n",
    "# plt.rcParams['text.usetex'] = True # uncomment if you have latex\n",
    "\n",
    "fig, axs = plt.subplots(4, 1)\n",
    "fig.set_size_inches(10, 15)\n",
    "\n",
    "for i in range(4):\n",
    "    axs[i].plot(time, z[i], label=\"linear\")\n",
    "    axs[i].set_xlabel('time')\n",
    "    axs[i].set_ylabel(y_labels[i])\n",
    "    axs[i].grid(True)\n",
    "    axs[i].legend()\n",
    "\n",
    "fig.tight_layout()\n",
    "# fig.savefig('out.png', dpi=300, facecolor='white') # uncomment to save high-res picture\n",
    "plt.show()\n"
   ]
  },
  {
   "cell_type": "code",
   "execution_count": null,
   "metadata": {},
   "outputs": [],
   "source": []
  }
 ],
 "metadata": {
  "interpreter": {
   "hash": "9b5233d308d247ec474d1ec45359869c00b7dec67b1245cf934f10f80541ee53"
  },
  "kernelspec": {
   "display_name": "Python 3.10.4 ('.venv': venv)",
   "language": "python",
   "name": "python3"
  },
  "language_info": {
   "codemirror_mode": {
    "name": "ipython",
    "version": 3
   },
   "file_extension": ".py",
   "mimetype": "text/x-python",
   "name": "python",
   "nbconvert_exporter": "python",
   "pygments_lexer": "ipython3",
   "version": "3.10.4"
  },
  "orig_nbformat": 4
 },
 "nbformat": 4,
 "nbformat_minor": 2
}
